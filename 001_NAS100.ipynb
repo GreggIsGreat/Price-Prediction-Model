{
 "cells": [
  {
   "cell_type": "code",
   "execution_count": 1,
   "id": "19a75b2b",
   "metadata": {},
   "outputs": [],
   "source": [
    "#### Import labraries and import dataset\n",
    "import pandas as pd\n",
    "import numpy as np\n",
    "import matplotlib.pyplot as plt\n",
    "import seaborn as sns\n",
    "from sklearn.model_selection import train_test_split\n",
    "from sklearn import metrics\n",
    "from sklearn.linear_model import LinearRegression\n",
    "import datetime"
   ]
  },
  {
   "cell_type": "code",
   "execution_count": 2,
   "id": "0fb43552",
   "metadata": {},
   "outputs": [
    {
     "data": {
      "text/html": [
       "<div>\n",
       "<style scoped>\n",
       "    .dataframe tbody tr th:only-of-type {\n",
       "        vertical-align: middle;\n",
       "    }\n",
       "\n",
       "    .dataframe tbody tr th {\n",
       "        vertical-align: top;\n",
       "    }\n",
       "\n",
       "    .dataframe thead th {\n",
       "        text-align: right;\n",
       "    }\n",
       "</style>\n",
       "<table border=\"1\" class=\"dataframe\">\n",
       "  <thead>\n",
       "    <tr style=\"text-align: right;\">\n",
       "      <th></th>\n",
       "      <th>Open</th>\n",
       "      <th>High</th>\n",
       "      <th>Low</th>\n",
       "      <th>Close</th>\n",
       "      <th>Adj Close</th>\n",
       "      <th>Volume</th>\n",
       "    </tr>\n",
       "    <tr>\n",
       "      <th>Date</th>\n",
       "      <th></th>\n",
       "      <th></th>\n",
       "      <th></th>\n",
       "      <th></th>\n",
       "      <th></th>\n",
       "      <th></th>\n",
       "    </tr>\n",
       "  </thead>\n",
       "  <tbody>\n",
       "    <tr>\n",
       "      <th>2019-01-18</th>\n",
       "      <td>6771.520020</td>\n",
       "      <td>6816.229980</td>\n",
       "      <td>6727.939941</td>\n",
       "      <td>6784.609863</td>\n",
       "      <td>6784.609863</td>\n",
       "      <td>2459920000</td>\n",
       "    </tr>\n",
       "    <tr>\n",
       "      <th>2019-01-22</th>\n",
       "      <td>6736.649902</td>\n",
       "      <td>6738.569824</td>\n",
       "      <td>6603.560059</td>\n",
       "      <td>6646.810059</td>\n",
       "      <td>6646.810059</td>\n",
       "      <td>2397660000</td>\n",
       "    </tr>\n",
       "    <tr>\n",
       "      <th>2019-01-23</th>\n",
       "      <td>6689.080078</td>\n",
       "      <td>6712.859863</td>\n",
       "      <td>6584.500000</td>\n",
       "      <td>6658.759766</td>\n",
       "      <td>6658.759766</td>\n",
       "      <td>2288090000</td>\n",
       "    </tr>\n",
       "    <tr>\n",
       "      <th>2019-01-24</th>\n",
       "      <td>6680.339844</td>\n",
       "      <td>6710.729980</td>\n",
       "      <td>6656.520020</td>\n",
       "      <td>6702.549805</td>\n",
       "      <td>6702.549805</td>\n",
       "      <td>2419110000</td>\n",
       "    </tr>\n",
       "    <tr>\n",
       "      <th>2019-01-25</th>\n",
       "      <td>6755.669922</td>\n",
       "      <td>6800.970215</td>\n",
       "      <td>6733.319824</td>\n",
       "      <td>6787.370117</td>\n",
       "      <td>6787.370117</td>\n",
       "      <td>2446550000</td>\n",
       "    </tr>\n",
       "    <tr>\n",
       "      <th>...</th>\n",
       "      <td>...</td>\n",
       "      <td>...</td>\n",
       "      <td>...</td>\n",
       "      <td>...</td>\n",
       "      <td>...</td>\n",
       "      <td>...</td>\n",
       "    </tr>\n",
       "    <tr>\n",
       "      <th>2022-12-12</th>\n",
       "      <td>11572.259766</td>\n",
       "      <td>11707.709961</td>\n",
       "      <td>11529.410156</td>\n",
       "      <td>11706.440430</td>\n",
       "      <td>11706.440430</td>\n",
       "      <td>4829990000</td>\n",
       "    </tr>\n",
       "    <tr>\n",
       "      <th>2022-12-13</th>\n",
       "      <td>12141.240234</td>\n",
       "      <td>12166.410156</td>\n",
       "      <td>11724.900391</td>\n",
       "      <td>11834.209961</td>\n",
       "      <td>11834.209961</td>\n",
       "      <td>6126890000</td>\n",
       "    </tr>\n",
       "    <tr>\n",
       "      <th>2022-12-14</th>\n",
       "      <td>11824.540039</td>\n",
       "      <td>11941.280273</td>\n",
       "      <td>11617.410156</td>\n",
       "      <td>11740.919922</td>\n",
       "      <td>11740.919922</td>\n",
       "      <td>5485150000</td>\n",
       "    </tr>\n",
       "    <tr>\n",
       "      <th>2022-12-15</th>\n",
       "      <td>11573.379883</td>\n",
       "      <td>11591.330078</td>\n",
       "      <td>11300.349609</td>\n",
       "      <td>11345.219727</td>\n",
       "      <td>11345.219727</td>\n",
       "      <td>5536070000</td>\n",
       "    </tr>\n",
       "    <tr>\n",
       "      <th>2022-12-16</th>\n",
       "      <td>11313.639648</td>\n",
       "      <td>11383.389648</td>\n",
       "      <td>11175.540039</td>\n",
       "      <td>11243.719727</td>\n",
       "      <td>11243.719727</td>\n",
       "      <td>7968170000</td>\n",
       "    </tr>\n",
       "  </tbody>\n",
       "</table>\n",
       "<p>987 rows × 6 columns</p>\n",
       "</div>"
      ],
      "text/plain": [
       "                    Open          High           Low         Close  \\\n",
       "Date                                                                 \n",
       "2019-01-18   6771.520020   6816.229980   6727.939941   6784.609863   \n",
       "2019-01-22   6736.649902   6738.569824   6603.560059   6646.810059   \n",
       "2019-01-23   6689.080078   6712.859863   6584.500000   6658.759766   \n",
       "2019-01-24   6680.339844   6710.729980   6656.520020   6702.549805   \n",
       "2019-01-25   6755.669922   6800.970215   6733.319824   6787.370117   \n",
       "...                  ...           ...           ...           ...   \n",
       "2022-12-12  11572.259766  11707.709961  11529.410156  11706.440430   \n",
       "2022-12-13  12141.240234  12166.410156  11724.900391  11834.209961   \n",
       "2022-12-14  11824.540039  11941.280273  11617.410156  11740.919922   \n",
       "2022-12-15  11573.379883  11591.330078  11300.349609  11345.219727   \n",
       "2022-12-16  11313.639648  11383.389648  11175.540039  11243.719727   \n",
       "\n",
       "               Adj Close      Volume  \n",
       "Date                                  \n",
       "2019-01-18   6784.609863  2459920000  \n",
       "2019-01-22   6646.810059  2397660000  \n",
       "2019-01-23   6658.759766  2288090000  \n",
       "2019-01-24   6702.549805  2419110000  \n",
       "2019-01-25   6787.370117  2446550000  \n",
       "...                  ...         ...  \n",
       "2022-12-12  11706.440430  4829990000  \n",
       "2022-12-13  11834.209961  6126890000  \n",
       "2022-12-14  11740.919922  5485150000  \n",
       "2022-12-15  11345.219727  5536070000  \n",
       "2022-12-16  11243.719727  7968170000  \n",
       "\n",
       "[987 rows x 6 columns]"
      ]
     },
     "execution_count": 2,
     "metadata": {},
     "output_type": "execute_result"
    }
   ],
   "source": [
    "# This is actually NASDAQ Futures from Yahoo Finance\n",
    "nas100 = pd.read_csv('NASDAQ100_dataset.csv', index_col=\"Date\", parse_dates=True)\n",
    "nas100"
   ]
  },
  {
   "cell_type": "code",
   "execution_count": 3,
   "id": "5381f526",
   "metadata": {},
   "outputs": [
    {
     "data": {
      "text/html": [
       "<div>\n",
       "<style scoped>\n",
       "    .dataframe tbody tr th:only-of-type {\n",
       "        vertical-align: middle;\n",
       "    }\n",
       "\n",
       "    .dataframe tbody tr th {\n",
       "        vertical-align: top;\n",
       "    }\n",
       "\n",
       "    .dataframe thead th {\n",
       "        text-align: right;\n",
       "    }\n",
       "</style>\n",
       "<table border=\"1\" class=\"dataframe\">\n",
       "  <thead>\n",
       "    <tr style=\"text-align: right;\">\n",
       "      <th></th>\n",
       "      <th>Open</th>\n",
       "      <th>High</th>\n",
       "      <th>Low</th>\n",
       "      <th>Close</th>\n",
       "      <th>Adj Close</th>\n",
       "      <th>Volume</th>\n",
       "    </tr>\n",
       "  </thead>\n",
       "  <tbody>\n",
       "    <tr>\n",
       "      <th>count</th>\n",
       "      <td>987.000000</td>\n",
       "      <td>987.000000</td>\n",
       "      <td>987.000000</td>\n",
       "      <td>987.000000</td>\n",
       "      <td>987.000000</td>\n",
       "      <td>9.870000e+02</td>\n",
       "    </tr>\n",
       "    <tr>\n",
       "      <th>mean</th>\n",
       "      <td>11344.913997</td>\n",
       "      <td>11438.108531</td>\n",
       "      <td>11242.805706</td>\n",
       "      <td>11346.217869</td>\n",
       "      <td>11346.217869</td>\n",
       "      <td>4.081285e+09</td>\n",
       "    </tr>\n",
       "    <tr>\n",
       "      <th>std</th>\n",
       "      <td>2836.639143</td>\n",
       "      <td>2855.422605</td>\n",
       "      <td>2808.532620</td>\n",
       "      <td>2832.590261</td>\n",
       "      <td>2832.590261</td>\n",
       "      <td>1.509825e+09</td>\n",
       "    </tr>\n",
       "    <tr>\n",
       "      <th>min</th>\n",
       "      <td>6680.339844</td>\n",
       "      <td>6697.529785</td>\n",
       "      <td>6584.500000</td>\n",
       "      <td>6632.790039</td>\n",
       "      <td>6632.790039</td>\n",
       "      <td>1.014530e+09</td>\n",
       "    </tr>\n",
       "    <tr>\n",
       "      <th>25%</th>\n",
       "      <td>8370.940430</td>\n",
       "      <td>8406.964844</td>\n",
       "      <td>8329.635254</td>\n",
       "      <td>8379.009765</td>\n",
       "      <td>8379.009765</td>\n",
       "      <td>2.538890e+09</td>\n",
       "    </tr>\n",
       "    <tr>\n",
       "      <th>50%</th>\n",
       "      <td>11622.089844</td>\n",
       "      <td>11751.290039</td>\n",
       "      <td>11524.440430</td>\n",
       "      <td>11665.370117</td>\n",
       "      <td>11665.370117</td>\n",
       "      <td>4.268210e+09</td>\n",
       "    </tr>\n",
       "    <tr>\n",
       "      <th>75%</th>\n",
       "      <td>13669.734863</td>\n",
       "      <td>13725.409668</td>\n",
       "      <td>13532.279785</td>\n",
       "      <td>13656.500000</td>\n",
       "      <td>13656.500000</td>\n",
       "      <td>4.940840e+09</td>\n",
       "    </tr>\n",
       "    <tr>\n",
       "      <th>max</th>\n",
       "      <td>16644.769531</td>\n",
       "      <td>16764.859375</td>\n",
       "      <td>16523.830078</td>\n",
       "      <td>16573.339844</td>\n",
       "      <td>16573.339844</td>\n",
       "      <td>1.162119e+10</td>\n",
       "    </tr>\n",
       "  </tbody>\n",
       "</table>\n",
       "</div>"
      ],
      "text/plain": [
       "               Open          High           Low         Close     Adj Close  \\\n",
       "count    987.000000    987.000000    987.000000    987.000000    987.000000   \n",
       "mean   11344.913997  11438.108531  11242.805706  11346.217869  11346.217869   \n",
       "std     2836.639143   2855.422605   2808.532620   2832.590261   2832.590261   \n",
       "min     6680.339844   6697.529785   6584.500000   6632.790039   6632.790039   \n",
       "25%     8370.940430   8406.964844   8329.635254   8379.009765   8379.009765   \n",
       "50%    11622.089844  11751.290039  11524.440430  11665.370117  11665.370117   \n",
       "75%    13669.734863  13725.409668  13532.279785  13656.500000  13656.500000   \n",
       "max    16644.769531  16764.859375  16523.830078  16573.339844  16573.339844   \n",
       "\n",
       "             Volume  \n",
       "count  9.870000e+02  \n",
       "mean   4.081285e+09  \n",
       "std    1.509825e+09  \n",
       "min    1.014530e+09  \n",
       "25%    2.538890e+09  \n",
       "50%    4.268210e+09  \n",
       "75%    4.940840e+09  \n",
       "max    1.162119e+10  "
      ]
     },
     "execution_count": 3,
     "metadata": {},
     "output_type": "execute_result"
    }
   ],
   "source": [
    "nas100.describe()"
   ]
  },
  {
   "cell_type": "code",
   "execution_count": 4,
   "id": "e38a26e4",
   "metadata": {},
   "outputs": [
    {
     "name": "stdout",
     "output_type": "stream",
     "text": [
      "<class 'pandas.core.frame.DataFrame'>\n",
      "DatetimeIndex: 987 entries, 2019-01-18 to 2022-12-16\n",
      "Data columns (total 6 columns):\n",
      " #   Column     Non-Null Count  Dtype  \n",
      "---  ------     --------------  -----  \n",
      " 0   Open       987 non-null    float64\n",
      " 1   High       987 non-null    float64\n",
      " 2   Low        987 non-null    float64\n",
      " 3   Close      987 non-null    float64\n",
      " 4   Adj Close  987 non-null    float64\n",
      " 5   Volume     987 non-null    int64  \n",
      "dtypes: float64(5), int64(1)\n",
      "memory usage: 54.0 KB\n"
     ]
    }
   ],
   "source": [
    "nas100.info()"
   ]
  },
  {
   "cell_type": "code",
   "execution_count": 5,
   "id": "8ce34a22",
   "metadata": {},
   "outputs": [
    {
     "data": {
      "text/plain": [
       "Open         0\n",
       "High         0\n",
       "Low          0\n",
       "Close        0\n",
       "Adj Close    0\n",
       "Volume       0\n",
       "dtype: int64"
      ]
     },
     "execution_count": 5,
     "metadata": {},
     "output_type": "execute_result"
    }
   ],
   "source": [
    "nas100.isnull().sum()"
   ]
  },
  {
   "cell_type": "code",
   "execution_count": 6,
   "id": "ee39e6eb",
   "metadata": {},
   "outputs": [
    {
     "data": {
      "text/html": [
       "<div>\n",
       "<style scoped>\n",
       "    .dataframe tbody tr th:only-of-type {\n",
       "        vertical-align: middle;\n",
       "    }\n",
       "\n",
       "    .dataframe tbody tr th {\n",
       "        vertical-align: top;\n",
       "    }\n",
       "\n",
       "    .dataframe thead th {\n",
       "        text-align: right;\n",
       "    }\n",
       "</style>\n",
       "<table border=\"1\" class=\"dataframe\">\n",
       "  <thead>\n",
       "    <tr style=\"text-align: right;\">\n",
       "      <th></th>\n",
       "      <th>Open</th>\n",
       "      <th>High</th>\n",
       "      <th>Low</th>\n",
       "      <th>Close</th>\n",
       "      <th>Adj Close</th>\n",
       "      <th>Volume</th>\n",
       "    </tr>\n",
       "    <tr>\n",
       "      <th>Date</th>\n",
       "      <th></th>\n",
       "      <th></th>\n",
       "      <th></th>\n",
       "      <th></th>\n",
       "      <th></th>\n",
       "      <th></th>\n",
       "    </tr>\n",
       "  </thead>\n",
       "  <tbody>\n",
       "    <tr>\n",
       "      <th>2019-01-18</th>\n",
       "      <td>6772</td>\n",
       "      <td>6816</td>\n",
       "      <td>6728</td>\n",
       "      <td>6785</td>\n",
       "      <td>6785</td>\n",
       "      <td>-1835047296</td>\n",
       "    </tr>\n",
       "    <tr>\n",
       "      <th>2019-01-22</th>\n",
       "      <td>6737</td>\n",
       "      <td>6739</td>\n",
       "      <td>6604</td>\n",
       "      <td>6647</td>\n",
       "      <td>6647</td>\n",
       "      <td>-1897307296</td>\n",
       "    </tr>\n",
       "    <tr>\n",
       "      <th>2019-01-23</th>\n",
       "      <td>6689</td>\n",
       "      <td>6713</td>\n",
       "      <td>6584</td>\n",
       "      <td>6659</td>\n",
       "      <td>6659</td>\n",
       "      <td>-2006877296</td>\n",
       "    </tr>\n",
       "    <tr>\n",
       "      <th>2019-01-24</th>\n",
       "      <td>6680</td>\n",
       "      <td>6711</td>\n",
       "      <td>6657</td>\n",
       "      <td>6703</td>\n",
       "      <td>6703</td>\n",
       "      <td>-1875857296</td>\n",
       "    </tr>\n",
       "    <tr>\n",
       "      <th>2019-01-25</th>\n",
       "      <td>6756</td>\n",
       "      <td>6801</td>\n",
       "      <td>6733</td>\n",
       "      <td>6787</td>\n",
       "      <td>6787</td>\n",
       "      <td>-1848417296</td>\n",
       "    </tr>\n",
       "  </tbody>\n",
       "</table>\n",
       "</div>"
      ],
      "text/plain": [
       "            Open  High   Low  Close  Adj Close      Volume\n",
       "Date                                                      \n",
       "2019-01-18  6772  6816  6728   6785       6785 -1835047296\n",
       "2019-01-22  6737  6739  6604   6647       6647 -1897307296\n",
       "2019-01-23  6689  6713  6584   6659       6659 -2006877296\n",
       "2019-01-24  6680  6711  6657   6703       6703 -1875857296\n",
       "2019-01-25  6756  6801  6733   6787       6787 -1848417296"
      ]
     },
     "execution_count": 6,
     "metadata": {},
     "output_type": "execute_result"
    }
   ],
   "source": [
    "nas100_predictor = nas100.round().astype(int)\n",
    "nas100_predictor.head()"
   ]
  },
  {
   "cell_type": "code",
   "execution_count": 7,
   "id": "93677a36",
   "metadata": {
    "scrolled": true
   },
   "outputs": [
    {
     "data": {
      "text/html": [
       "<div>\n",
       "<style scoped>\n",
       "    .dataframe tbody tr th:only-of-type {\n",
       "        vertical-align: middle;\n",
       "    }\n",
       "\n",
       "    .dataframe tbody tr th {\n",
       "        vertical-align: top;\n",
       "    }\n",
       "\n",
       "    .dataframe thead th {\n",
       "        text-align: right;\n",
       "    }\n",
       "</style>\n",
       "<table border=\"1\" class=\"dataframe\">\n",
       "  <thead>\n",
       "    <tr style=\"text-align: right;\">\n",
       "      <th></th>\n",
       "      <th>Open</th>\n",
       "      <th>High</th>\n",
       "      <th>Low</th>\n",
       "      <th>Close</th>\n",
       "      <th>Adj Close</th>\n",
       "      <th>Volume</th>\n",
       "    </tr>\n",
       "    <tr>\n",
       "      <th>Date</th>\n",
       "      <th></th>\n",
       "      <th></th>\n",
       "      <th></th>\n",
       "      <th></th>\n",
       "      <th></th>\n",
       "      <th></th>\n",
       "    </tr>\n",
       "  </thead>\n",
       "  <tbody>\n",
       "    <tr>\n",
       "      <th>2022-12-12</th>\n",
       "      <td>11572.0</td>\n",
       "      <td>11708.0</td>\n",
       "      <td>11529.0</td>\n",
       "      <td>11706.0</td>\n",
       "      <td>11706.440430</td>\n",
       "      <td>4829990000</td>\n",
       "    </tr>\n",
       "    <tr>\n",
       "      <th>2022-12-13</th>\n",
       "      <td>12141.0</td>\n",
       "      <td>12166.0</td>\n",
       "      <td>11725.0</td>\n",
       "      <td>11834.0</td>\n",
       "      <td>11834.209961</td>\n",
       "      <td>6126890000</td>\n",
       "    </tr>\n",
       "    <tr>\n",
       "      <th>2022-12-14</th>\n",
       "      <td>11825.0</td>\n",
       "      <td>11941.0</td>\n",
       "      <td>11617.0</td>\n",
       "      <td>11741.0</td>\n",
       "      <td>11740.919922</td>\n",
       "      <td>5485150000</td>\n",
       "    </tr>\n",
       "    <tr>\n",
       "      <th>2022-12-15</th>\n",
       "      <td>11573.0</td>\n",
       "      <td>11591.0</td>\n",
       "      <td>11300.0</td>\n",
       "      <td>11345.0</td>\n",
       "      <td>11345.219727</td>\n",
       "      <td>5536070000</td>\n",
       "    </tr>\n",
       "    <tr>\n",
       "      <th>2022-12-16</th>\n",
       "      <td>11314.0</td>\n",
       "      <td>11383.0</td>\n",
       "      <td>11176.0</td>\n",
       "      <td>11244.0</td>\n",
       "      <td>11243.719727</td>\n",
       "      <td>7968170000</td>\n",
       "    </tr>\n",
       "  </tbody>\n",
       "</table>\n",
       "</div>"
      ],
      "text/plain": [
       "               Open     High      Low    Close     Adj Close      Volume\n",
       "Date                                                                    \n",
       "2022-12-12  11572.0  11708.0  11529.0  11706.0  11706.440430  4829990000\n",
       "2022-12-13  12141.0  12166.0  11725.0  11834.0  11834.209961  6126890000\n",
       "2022-12-14  11825.0  11941.0  11617.0  11741.0  11740.919922  5485150000\n",
       "2022-12-15  11573.0  11591.0  11300.0  11345.0  11345.219727  5536070000\n",
       "2022-12-16  11314.0  11383.0  11176.0  11244.0  11243.719727  7968170000"
      ]
     },
     "execution_count": 7,
     "metadata": {},
     "output_type": "execute_result"
    }
   ],
   "source": [
    "nas100[['Open', 'Close', 'High', 'Low']] = nas100[['Open', 'Close', 'High', 'Low']].apply(lambda x: round(x, 0))\n",
    "nas100.tail()"
   ]
  },
  {
   "cell_type": "code",
   "execution_count": 8,
   "id": "30d3788d",
   "metadata": {},
   "outputs": [],
   "source": [
    "Y = nas100[['Close']]\n",
    "X = nas100[['Open', 'Volume', 'Low', 'High']]"
   ]
  },
  {
   "cell_type": "code",
   "execution_count": 9,
   "id": "52f23ff0",
   "metadata": {},
   "outputs": [],
   "source": [
    "#Splitting the data into tain and test data\n",
    "X_train, X_test,Y_train,Y_test= train_test_split(X,Y, test_size=0.2, random_state=2)"
   ]
  },
  {
   "cell_type": "code",
   "execution_count": 10,
   "id": "65d46793",
   "metadata": {},
   "outputs": [
    {
     "data": {
      "text/plain": [
       "(987, 6)"
      ]
     },
     "execution_count": 10,
     "metadata": {},
     "output_type": "execute_result"
    }
   ],
   "source": [
    "# Define the model\n",
    "nas100.shape"
   ]
  },
  {
   "cell_type": "code",
   "execution_count": 11,
   "id": "39cf48d6",
   "metadata": {},
   "outputs": [],
   "source": [
    "# Build the model with LSTM Major L but recommended\n",
    "# model = tf.keras.Sequential()\n",
    "# model.add(tf.keras.layers.LSTM(units=50, input_shape=(None, X_train.shape[1])))\n",
    "# model.add(tf.keras.layers.Dense(1))"
   ]
  },
  {
   "cell_type": "code",
   "execution_count": 12,
   "id": "219b1845",
   "metadata": {},
   "outputs": [],
   "source": [
    "model = LinearRegression()"
   ]
  },
  {
   "cell_type": "code",
   "execution_count": 13,
   "id": "2d04cf19",
   "metadata": {},
   "outputs": [
    {
     "data": {
      "text/html": [
       "<style>#sk-container-id-1 {color: black;background-color: white;}#sk-container-id-1 pre{padding: 0;}#sk-container-id-1 div.sk-toggleable {background-color: white;}#sk-container-id-1 label.sk-toggleable__label {cursor: pointer;display: block;width: 100%;margin-bottom: 0;padding: 0.3em;box-sizing: border-box;text-align: center;}#sk-container-id-1 label.sk-toggleable__label-arrow:before {content: \"▸\";float: left;margin-right: 0.25em;color: #696969;}#sk-container-id-1 label.sk-toggleable__label-arrow:hover:before {color: black;}#sk-container-id-1 div.sk-estimator:hover label.sk-toggleable__label-arrow:before {color: black;}#sk-container-id-1 div.sk-toggleable__content {max-height: 0;max-width: 0;overflow: hidden;text-align: left;background-color: #f0f8ff;}#sk-container-id-1 div.sk-toggleable__content pre {margin: 0.2em;color: black;border-radius: 0.25em;background-color: #f0f8ff;}#sk-container-id-1 input.sk-toggleable__control:checked~div.sk-toggleable__content {max-height: 200px;max-width: 100%;overflow: auto;}#sk-container-id-1 input.sk-toggleable__control:checked~label.sk-toggleable__label-arrow:before {content: \"▾\";}#sk-container-id-1 div.sk-estimator input.sk-toggleable__control:checked~label.sk-toggleable__label {background-color: #d4ebff;}#sk-container-id-1 div.sk-label input.sk-toggleable__control:checked~label.sk-toggleable__label {background-color: #d4ebff;}#sk-container-id-1 input.sk-hidden--visually {border: 0;clip: rect(1px 1px 1px 1px);clip: rect(1px, 1px, 1px, 1px);height: 1px;margin: -1px;overflow: hidden;padding: 0;position: absolute;width: 1px;}#sk-container-id-1 div.sk-estimator {font-family: monospace;background-color: #f0f8ff;border: 1px dotted black;border-radius: 0.25em;box-sizing: border-box;margin-bottom: 0.5em;}#sk-container-id-1 div.sk-estimator:hover {background-color: #d4ebff;}#sk-container-id-1 div.sk-parallel-item::after {content: \"\";width: 100%;border-bottom: 1px solid gray;flex-grow: 1;}#sk-container-id-1 div.sk-label:hover label.sk-toggleable__label {background-color: #d4ebff;}#sk-container-id-1 div.sk-serial::before {content: \"\";position: absolute;border-left: 1px solid gray;box-sizing: border-box;top: 0;bottom: 0;left: 50%;z-index: 0;}#sk-container-id-1 div.sk-serial {display: flex;flex-direction: column;align-items: center;background-color: white;padding-right: 0.2em;padding-left: 0.2em;position: relative;}#sk-container-id-1 div.sk-item {position: relative;z-index: 1;}#sk-container-id-1 div.sk-parallel {display: flex;align-items: stretch;justify-content: center;background-color: white;position: relative;}#sk-container-id-1 div.sk-item::before, #sk-container-id-1 div.sk-parallel-item::before {content: \"\";position: absolute;border-left: 1px solid gray;box-sizing: border-box;top: 0;bottom: 0;left: 50%;z-index: -1;}#sk-container-id-1 div.sk-parallel-item {display: flex;flex-direction: column;z-index: 1;position: relative;background-color: white;}#sk-container-id-1 div.sk-parallel-item:first-child::after {align-self: flex-end;width: 50%;}#sk-container-id-1 div.sk-parallel-item:last-child::after {align-self: flex-start;width: 50%;}#sk-container-id-1 div.sk-parallel-item:only-child::after {width: 0;}#sk-container-id-1 div.sk-dashed-wrapped {border: 1px dashed gray;margin: 0 0.4em 0.5em 0.4em;box-sizing: border-box;padding-bottom: 0.4em;background-color: white;}#sk-container-id-1 div.sk-label label {font-family: monospace;font-weight: bold;display: inline-block;line-height: 1.2em;}#sk-container-id-1 div.sk-label-container {text-align: center;}#sk-container-id-1 div.sk-container {/* jupyter's `normalize.less` sets `[hidden] { display: none; }` but bootstrap.min.css set `[hidden] { display: none !important; }` so we also need the `!important` here to be able to override the default hidden behavior on the sphinx rendered scikit-learn.org. See: https://github.com/scikit-learn/scikit-learn/issues/21755 */display: inline-block !important;position: relative;}#sk-container-id-1 div.sk-text-repr-fallback {display: none;}</style><div id=\"sk-container-id-1\" class=\"sk-top-container\"><div class=\"sk-text-repr-fallback\"><pre>LinearRegression()</pre><b>In a Jupyter environment, please rerun this cell to show the HTML representation or trust the notebook. <br />On GitHub, the HTML representation is unable to render, please try loading this page with nbviewer.org.</b></div><div class=\"sk-container\" hidden><div class=\"sk-item\"><div class=\"sk-estimator sk-toggleable\"><input class=\"sk-toggleable__control sk-hidden--visually\" id=\"sk-estimator-id-1\" type=\"checkbox\" checked><label for=\"sk-estimator-id-1\" class=\"sk-toggleable__label sk-toggleable__label-arrow\">LinearRegression</label><div class=\"sk-toggleable__content\"><pre>LinearRegression()</pre></div></div></div></div></div>"
      ],
      "text/plain": [
       "LinearRegression()"
      ]
     },
     "execution_count": 13,
     "metadata": {},
     "output_type": "execute_result"
    }
   ],
   "source": [
    "# Train the model\n",
    "model.fit(X_train, Y_train)"
   ]
  },
  {
   "cell_type": "code",
   "execution_count": 14,
   "id": "ebb39b18",
   "metadata": {},
   "outputs": [
    {
     "data": {
      "text/html": [
       "<div>\n",
       "<style scoped>\n",
       "    .dataframe tbody tr th:only-of-type {\n",
       "        vertical-align: middle;\n",
       "    }\n",
       "\n",
       "    .dataframe tbody tr th {\n",
       "        vertical-align: top;\n",
       "    }\n",
       "\n",
       "    .dataframe thead th {\n",
       "        text-align: right;\n",
       "    }\n",
       "</style>\n",
       "<table border=\"1\" class=\"dataframe\">\n",
       "  <thead>\n",
       "    <tr style=\"text-align: right;\">\n",
       "      <th></th>\n",
       "      <th>Open</th>\n",
       "      <th>Volume</th>\n",
       "      <th>Low</th>\n",
       "      <th>High</th>\n",
       "    </tr>\n",
       "    <tr>\n",
       "      <th>Date</th>\n",
       "      <th></th>\n",
       "      <th></th>\n",
       "      <th></th>\n",
       "      <th></th>\n",
       "    </tr>\n",
       "  </thead>\n",
       "  <tbody>\n",
       "    <tr>\n",
       "      <th>2022-12-12</th>\n",
       "      <td>11572.0</td>\n",
       "      <td>4829990000</td>\n",
       "      <td>11529.0</td>\n",
       "      <td>11708.0</td>\n",
       "    </tr>\n",
       "    <tr>\n",
       "      <th>2022-12-13</th>\n",
       "      <td>12141.0</td>\n",
       "      <td>6126890000</td>\n",
       "      <td>11725.0</td>\n",
       "      <td>12166.0</td>\n",
       "    </tr>\n",
       "    <tr>\n",
       "      <th>2022-12-14</th>\n",
       "      <td>11825.0</td>\n",
       "      <td>5485150000</td>\n",
       "      <td>11617.0</td>\n",
       "      <td>11941.0</td>\n",
       "    </tr>\n",
       "    <tr>\n",
       "      <th>2022-12-15</th>\n",
       "      <td>11573.0</td>\n",
       "      <td>5536070000</td>\n",
       "      <td>11300.0</td>\n",
       "      <td>11591.0</td>\n",
       "    </tr>\n",
       "    <tr>\n",
       "      <th>2022-12-16</th>\n",
       "      <td>11314.0</td>\n",
       "      <td>7968170000</td>\n",
       "      <td>11176.0</td>\n",
       "      <td>11383.0</td>\n",
       "    </tr>\n",
       "  </tbody>\n",
       "</table>\n",
       "</div>"
      ],
      "text/plain": [
       "               Open      Volume      Low     High\n",
       "Date                                             \n",
       "2022-12-12  11572.0  4829990000  11529.0  11708.0\n",
       "2022-12-13  12141.0  6126890000  11725.0  12166.0\n",
       "2022-12-14  11825.0  5485150000  11617.0  11941.0\n",
       "2022-12-15  11573.0  5536070000  11300.0  11591.0\n",
       "2022-12-16  11314.0  7968170000  11176.0  11383.0"
      ]
     },
     "execution_count": 14,
     "metadata": {},
     "output_type": "execute_result"
    }
   ],
   "source": [
    "X.tail()"
   ]
  },
  {
   "cell_type": "code",
   "execution_count": 15,
   "id": "c7fd3fec",
   "metadata": {},
   "outputs": [
    {
     "data": {
      "text/html": [
       "<div>\n",
       "<style scoped>\n",
       "    .dataframe tbody tr th:only-of-type {\n",
       "        vertical-align: middle;\n",
       "    }\n",
       "\n",
       "    .dataframe tbody tr th {\n",
       "        vertical-align: top;\n",
       "    }\n",
       "\n",
       "    .dataframe thead th {\n",
       "        text-align: right;\n",
       "    }\n",
       "</style>\n",
       "<table border=\"1\" class=\"dataframe\">\n",
       "  <thead>\n",
       "    <tr style=\"text-align: right;\">\n",
       "      <th></th>\n",
       "      <th>Close</th>\n",
       "    </tr>\n",
       "    <tr>\n",
       "      <th>Date</th>\n",
       "      <th></th>\n",
       "    </tr>\n",
       "  </thead>\n",
       "  <tbody>\n",
       "    <tr>\n",
       "      <th>2022-12-12</th>\n",
       "      <td>11706.0</td>\n",
       "    </tr>\n",
       "    <tr>\n",
       "      <th>2022-12-13</th>\n",
       "      <td>11834.0</td>\n",
       "    </tr>\n",
       "    <tr>\n",
       "      <th>2022-12-14</th>\n",
       "      <td>11741.0</td>\n",
       "    </tr>\n",
       "    <tr>\n",
       "      <th>2022-12-15</th>\n",
       "      <td>11345.0</td>\n",
       "    </tr>\n",
       "    <tr>\n",
       "      <th>2022-12-16</th>\n",
       "      <td>11244.0</td>\n",
       "    </tr>\n",
       "  </tbody>\n",
       "</table>\n",
       "</div>"
      ],
      "text/plain": [
       "              Close\n",
       "Date               \n",
       "2022-12-12  11706.0\n",
       "2022-12-13  11834.0\n",
       "2022-12-14  11741.0\n",
       "2022-12-15  11345.0\n",
       "2022-12-16  11244.0"
      ]
     },
     "execution_count": 15,
     "metadata": {},
     "output_type": "execute_result"
    }
   ],
   "source": [
    "Y.tail()"
   ]
  },
  {
   "cell_type": "code",
   "execution_count": 18,
   "id": "1586a085",
   "metadata": {},
   "outputs": [],
   "source": [
    "input_data = (10837.20, 2238000, 10728.26, 10842.33)\n",
    "input_values = np.asarray(input_data)\n",
    "\n",
    "#Reshaping the arrary to get a single result\n",
    "input_data_reshaped = input_values.reshape(1, -1)"
   ]
  },
  {
   "cell_type": "code",
   "execution_count": 20,
   "id": "c141e163",
   "metadata": {},
   "outputs": [
    {
     "name": "stdout",
     "output_type": "stream",
     "text": [
      "Sell!! & TP:[[10742.01]]\n"
     ]
    },
    {
     "name": "stderr",
     "output_type": "stream",
     "text": [
      "C:\\Users\\BIDA19-040\\Anaconda3\\envs\\tensorflow\\lib\\site-packages\\sklearn\\base.py:409: UserWarning: X does not have valid feature names, but LinearRegression was fitted with feature names\n",
      "  warnings.warn(\n"
     ]
    }
   ],
   "source": [
    "anticipated = model.predict(input_data_reshaped)\n",
    "if input_data[0] < anticipated:\n",
    "    print(f\"Buy!! & TP:{anticipated.round(2)}\")\n",
    "else:\n",
    "    print(f\"Sell!! & TP:{anticipated.round(2)}\")"
   ]
  },
  {
   "cell_type": "raw",
   "id": "9b8cadf5",
   "metadata": {},
   "source": [
    "# Investing Data & Trading View Volume\n",
    "# 10695.1, 15359000, 10687.8, 10799 == 10777.12-up"
   ]
  },
  {
   "cell_type": "raw",
   "id": "cc7b1bb6",
   "metadata": {},
   "source": [
    "# MetaTrader Data & Trading View Volume\n",
    "# 10695.1, 15359000, 10776.75, 10900.00 == 10945.35-up Good for Avatrade\n",
    "# 10837.20, 2238000, 10728.26, 10842.33 == 10742.01- Sell"
   ]
  },
  {
   "cell_type": "raw",
   "id": "6d11daaf",
   "metadata": {},
   "source": [
    "# Investing Data & Trading View Volume\n",
    "# 11033.5, 12103000, 10943.25 , 11036.25 == 10952.49-down"
   ]
  },
  {
   "cell_type": "markdown",
   "id": "4fc2461c",
   "metadata": {},
   "source": [
    "# _Test 1_ #"
   ]
  },
  {
   "cell_type": "raw",
   "id": "7f2f6d32",
   "metadata": {},
   "source": [
    "price_list = (10800.80, 877342447, 10776.62, 10981.06)\n",
    "array_list = np.asarray(price_list)\n",
    "reshape = array_list.reshape(1, -1)"
   ]
  },
  {
   "cell_type": "raw",
   "id": "358f97b8",
   "metadata": {},
   "source": [
    "anticipated = model.predict(reshape)\n",
    "if price_list[0] < anticipated:\n",
    "    print(f\"Buy!! & TP:{anticipated}\")\n",
    "else:\n",
    "    print(f\"Sell!! & TP:{anticipated}\")"
   ]
  },
  {
   "cell_type": "code",
   "execution_count": null,
   "id": "4eee527e",
   "metadata": {},
   "outputs": [],
   "source": []
  },
  {
   "cell_type": "code",
   "execution_count": null,
   "id": "81e4e064",
   "metadata": {},
   "outputs": [],
   "source": []
  },
  {
   "cell_type": "code",
   "execution_count": null,
   "id": "ef64713f",
   "metadata": {},
   "outputs": [],
   "source": []
  },
  {
   "cell_type": "code",
   "execution_count": null,
   "id": "ace1a5e3",
   "metadata": {},
   "outputs": [],
   "source": []
  },
  {
   "cell_type": "code",
   "execution_count": null,
   "id": "48dabc27",
   "metadata": {},
   "outputs": [],
   "source": []
  },
  {
   "cell_type": "code",
   "execution_count": null,
   "id": "2fe2c9d7",
   "metadata": {},
   "outputs": [],
   "source": []
  }
 ],
 "metadata": {
  "kernelspec": {
   "display_name": "Python 3.10.4 64-bit",
   "language": "python",
   "name": "python3"
  },
  "language_info": {
   "codemirror_mode": {
    "name": "ipython",
    "version": 3
   },
   "file_extension": ".py",
   "mimetype": "text/x-python",
   "name": "python",
   "nbconvert_exporter": "python",
   "pygments_lexer": "ipython3",
   "version": "3.10.4"
  },
  "vscode": {
   "interpreter": {
    "hash": "95f4f960ec42d706e0971c6b796106cafd1c5ac9d22b9e015432a9a4f57d5e05"
   }
  }
 },
 "nbformat": 4,
 "nbformat_minor": 5
}
